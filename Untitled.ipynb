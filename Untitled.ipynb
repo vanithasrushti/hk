{
 "cells": [
  {
   "cell_type": "code",
   "execution_count": 2,
   "id": "28f14392-fc41-4329-8e9b-fe756aeaf215",
   "metadata": {},
   "outputs": [
    {
     "name": "stdout",
     "output_type": "stream",
     "text": [
      "2024-01-01    10\n",
      "2024-01-02    12\n",
      "2024-01-03    14\n",
      "2024-01-04    13\n",
      "2024-01-05    15\n",
      "Freq: D, dtype: int64\n"
     ]
    }
   ],
   "source": [
    "import pandas as pd\n",
    "import numpy as np\n",
    "dates=pd.date_range(start=\"2024-01-01\",periods=5,freq=\"D\")\n",
    "ts=pd.Series([10,12,14,13,15],index=dates)\n",
    "print(ts)"
   ]
  },
  {
   "cell_type": "code",
   "execution_count": 4,
   "id": "b76719c7-efb3-4bdc-8a8b-2961cd6ed303",
   "metadata": {},
   "outputs": [
    {
     "name": "stdout",
     "output_type": "stream",
     "text": [
      "2024-02-29    12.8\n",
      "Freq: ME, dtype: float64\n"
     ]
    }
   ],
   "source": [
    "import pandas as pd\n",
    "import numpy as np\n",
    "dates=pd.date_range(start=\"2024-02-01\",periods=5,freq=\"D\")\n",
    "ts=pd.Series([10,12,14,13,15],index=dates)\n",
    "month=ts.resample('ME').mean()\n",
    "print(month)\n"
   ]
  },
  {
   "cell_type": "code",
   "execution_count": 7,
   "id": "86ce68c8-dab4-45c3-9377-e9e765e63907",
   "metadata": {},
   "outputs": [
    {
     "name": "stdout",
     "output_type": "stream",
     "text": [
      "2024-02-01    12.0\n",
      "2024-02-02    14.0\n",
      "2024-02-03    13.0\n",
      "2024-02-04    15.0\n",
      "2024-02-05     NaN\n",
      "Freq: D, dtype: float64\n"
     ]
    }
   ],
   "source": [
    "import pandas as pd\n",
    "dates=pd.date_range(start=\"2024-02-01\",periods=5)\n",
    "ts=pd.Series([10,12,14,13,15],index=dates)\n",
    "print(ts.shift(-1))"
   ]
  },
  {
   "cell_type": "code",
   "execution_count": 10,
   "id": "8d98f8f4-0210-4cf8-a59c-04be64420d9a",
   "metadata": {},
   "outputs": [
    {
     "name": "stdout",
     "output_type": "stream",
     "text": [
      "2024-02-01     NaN\n",
      "2024-02-02     NaN\n",
      "2024-02-03    36.0\n",
      "2024-02-04    39.0\n",
      "2024-02-05    42.0\n",
      "Freq: D, dtype: float64\n"
     ]
    }
   ],
   "source": [
    "import pandas as pd\n",
    "dates=pd.date_range(start=\"2024-02-01\",periods=5)\n",
    "ts=pd.Series([10,12,14,13,15],index=dates)\n",
    "rolling_avg=ts.rolling(3).sum()\n",
    "print(rolling_avg)"
   ]
  },
  {
   "cell_type": "code",
   "execution_count": 11,
   "id": "847ac755-8c11-453f-859b-62d060000ea1",
   "metadata": {},
   "outputs": [
    {
     "name": "stdout",
     "output_type": "stream",
     "text": [
      "2024-02-01    NaN\n",
      "2024-02-02    2.0\n",
      "2024-02-03    2.0\n",
      "2024-02-04   -1.0\n",
      "2024-02-05    2.0\n",
      "Freq: D, dtype: float64\n"
     ]
    }
   ],
   "source": [
    "import pandas as pd\n",
    "dates=pd.date_range(start=\"2024-02-01\",periods=5)\n",
    "ts=pd.Series([10,12,14,13,15],index=dates)\n",
    "print(ts.diff())"
   ]
  },
  {
   "cell_type": "code",
   "execution_count": null,
   "id": "c4a754e9-a0f9-4a36-ac4e-ae7453bb2016",
   "metadata": {},
   "outputs": [],
   "source": [
    "import pandas as pd\n",
    "dates=pd.date_range(start=\"2024-02-01\",periods=3)\n",
    "ts=pd.Series([10,12,14],index=dates)\n",
    "print(\"Year=\",ts.index.year)\n",
    "print(\"Month=\",ts.index.month)\n",
    "print(\"Day=\",ts.index.day)\n",
    "print(\"Day Name=\",ts.index.day_name())"
   ]
  },
  {
   "cell_type": "code",
   "execution_count": null,
   "id": "800cd96b-e23c-4edb-bcdf-2fc01eaf7ce4",
   "metadata": {},
   "outputs": [],
   "source": []
  }
 ],
 "metadata": {
  "kernelspec": {
   "display_name": "Python 3 (ipykernel)",
   "language": "python",
   "name": "python3"
  },
  "language_info": {
   "codemirror_mode": {
    "name": "ipython",
    "version": 3
   },
   "file_extension": ".py",
   "mimetype": "text/x-python",
   "name": "python",
   "nbconvert_exporter": "python",
   "pygments_lexer": "ipython3",
   "version": "3.13.2"
  }
 },
 "nbformat": 4,
 "nbformat_minor": 5
}
